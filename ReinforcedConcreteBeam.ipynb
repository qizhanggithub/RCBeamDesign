{
 "cells": [
  {
   "cell_type": "code",
   "execution_count": 396,
   "id": "6ecf42da",
   "metadata": {},
   "outputs": [],
   "source": [
    "import handcalcs.render\n",
    "import numpy as np\n",
    "import pandas as pd\n",
    "from math import sqrt, atan, radians, sin, cos"
   ]
  },
  {
   "cell_type": "markdown",
   "id": "c617d852",
   "metadata": {},
   "source": [
    "# Reinforced concrete beam design (as per ACI 318-19)"
   ]
  },
  {
   "cell_type": "markdown",
   "id": "6e816cda",
   "metadata": {},
   "source": [
    "## Loads"
   ]
  },
  {
   "cell_type": "code",
   "execution_count": 397,
   "id": "30fff25a",
   "metadata": {},
   "outputs": [],
   "source": [
    "Nu = 0 # axil loads positive for compression, negative for tension"
   ]
  },
  {
   "cell_type": "markdown",
   "id": "51f3c902",
   "metadata": {},
   "source": [
    "## Material properties"
   ]
  },
  {
   "cell_type": "code",
   "execution_count": 398,
   "id": "bb262667",
   "metadata": {},
   "outputs": [
    {
     "data": {
      "text/latex": [
       "\\[\n",
       "\\begin{aligned}\n",
       "f'_{c} &= 4000 \\; \\;\\textrm{(psi, unconfined concrete compressive stress)}\n",
       "\\\\[10pt]\n",
       "\\epsilon_{cmax} &= 0.003 \\; \\;\\textrm{(max strain at the extreme compression fiber, from ACI 318)}\n",
       "\\\\[10pt]\n",
       "\\alpha_{1} &= 0.850 \\; \n",
       "\\\\[10pt]\n",
       "f_{yl} &= 40000 \\; \\;\\textrm{(ksi, longitudinal rebar yield strength)}\n",
       "\\\\[10pt]\n",
       "\\epsilon_{y} &= 0.002 \\; \\;\\textrm{(strain at longitudinal rebar yielding, from ACI 318)}\n",
       "\\\\[10pt]\n",
       "f_{yt} &= 40000 \\; \\;\\textrm{(ksi, transverse rebar yield strength)}\n",
       "\\\\[10pt]\n",
       "\\phi_{v} &= 0.750 \\; \n",
       "\\end{aligned}\n",
       "\\]"
      ],
      "text/plain": [
       "<IPython.core.display.Latex object>"
      ]
     },
     "metadata": {},
     "output_type": "display_data"
    }
   ],
   "source": [
    "%%render\n",
    "\n",
    "f_prime_c = 4000 # psi, unconfined concrete compressive stress\n",
    "epsilon_cmax = 0.003 # max strain at the extreme compression fiber, from ACI 318\n",
    "alpha_1 = 0.85\n",
    "\n",
    "f_yl = 40000 # ksi, longitudinal rebar yield strength\n",
    "epsilon_y = 0.002 # strain at longitudinal rebar yielding, from ACI 318\n",
    "\n",
    "f_yt = 40000 # ksi, transverse rebar yield strength\n",
    "phi_v = 0.75"
   ]
  },
  {
   "cell_type": "markdown",
   "id": "3385bd78",
   "metadata": {},
   "source": [
    "## Section details"
   ]
  },
  {
   "cell_type": "code",
   "execution_count": 399,
   "id": "fa7901b0",
   "metadata": {},
   "outputs": [
    {
     "data": {
      "text/latex": [
       "\\[\n",
       "\\begin{aligned}\n",
       "b &= 12 \\; \\;\\textrm{(inch, width of beam)}\n",
       "\\\\[10pt]\n",
       "h &= 19 \\; \\;\\textrm{(inch, overall depth of beam)}\n",
       "\\\\[10pt]\n",
       "n_{tensionbar} &= 7 \\; \\;\\textrm{(number of rebar on tension side)}\n",
       "\\\\[10pt]\n",
       "n_{leg} &= 2 \\; \\;\\textrm{(number of shear reinforcement legs per s distance)}\n",
       "\\\\[10pt]\n",
       "\\mathrm{db}_{l} &= 8 \\; \\;\\textrm{(longitudinal bar size, US rebar size)}\n",
       "\\\\[10pt]\n",
       "\\mathrm{db}_{t} &= 4 \\; \\;\\textrm{(transverse bar size, US rebar size)}\n",
       "\\\\[10pt]\n",
       "s &= 6 \\; \\;\\textrm{(inch, transverse bar spacing)}\n",
       "\\\\[10pt]\n",
       "\\mathrm{cover} &= 2 \\; \\;\\textrm{(inch, clear cover)}\n",
       "\\end{aligned}\n",
       "\\]"
      ],
      "text/plain": [
       "<IPython.core.display.Latex object>"
      ]
     },
     "metadata": {},
     "output_type": "display_data"
    }
   ],
   "source": [
    "%%render\n",
    "b = 12 # inch, width of beam\n",
    "h = 19 # inch, overall depth of beam\n",
    "n_tensionbar = 7 # number of rebar on tension side\n",
    "n_leg=2 # number of shear reinforcement legs per s distance\n",
    "db_l = 8 # longitudinal bar size, US rebar size\n",
    "db_t = 4 # transverse bar size, US rebar size\n",
    "s = 6 # inch, transverse bar spacing\n",
    "cover = 2 # inch, clear cover"
   ]
  },
  {
   "cell_type": "code",
   "execution_count": 400,
   "id": "fc45e06c",
   "metadata": {},
   "outputs": [],
   "source": [
    "USrebar = pd.DataFrame({\n",
    "    'size #': [ 4,    5,     6,   7  ,  8 ,    9,   10,   11],\n",
    "    'area': [  0.2, 0.31, 0.44,  0.6, 0.79,    1,   1.27, 1.56]\n",
    "})\n",
    "As=float(USrebar.loc[USrebar['size #'] == db_l, 'area'])*n_tension # total tension rebar area"
   ]
  },
  {
   "cell_type": "markdown",
   "id": "9c6b7daa",
   "metadata": {},
   "source": [
    "## Flexural resistance calculation"
   ]
  },
  {
   "cell_type": "code",
   "execution_count": 401,
   "id": "165babc4",
   "metadata": {},
   "outputs": [
    {
     "data": {
      "text/latex": [
       "\\[\n",
       "\\begin{aligned}\n",
       "\\mathrm{Ag} &= b \\cdot h \\\\&= 12 \\cdot 19 \\\\&= 228 \\; \\;\\textrm{(inch^2, gross section area)}\\\\[10pt]\n",
       "\\\\[10pt]\n",
       "d &= h - \\mathrm{cover} - \\frac{ \\mathrm{db}_{t} }{ 8 } - \\frac{ \\mathrm{db}_{l} }{ 8 } \\cdot \\frac{1} { 2 } \\\\&= 19 - 2 - \\frac{ 4 }{ 8 } - \\frac{ 8 }{ 8 } \\cdot \\frac{1} { 2 } \\\\&= 16.000 \\; \\;\\textrm{(inch, distance between compression edge and center of tension rebar)}\\\\[10pt]\n",
       "\\\\[10pt]\n",
       "\\rho &= \\frac{ \\mathrm{As} }{ b \\cdot d } \\\\&= \\frac{ 5.530 }{ 12 \\cdot 16.000 } \\\\&= 0.029 \\; \\;\\textrm{(longitudinal reinforcement ratio)}\\\\[10pt]\n",
       "\\end{aligned}\n",
       "\\]"
      ],
      "text/plain": [
       "<IPython.core.display.Latex object>"
      ]
     },
     "metadata": {},
     "output_type": "display_data"
    }
   ],
   "source": [
    "%%render long\n",
    "Ag = b*h # inch^2, gross section area\n",
    "d = h - cover - db_t/8-db_l/8/2 # inch, distance between compression edge and center of tension rebar\n",
    "rho = As/(b*d) # longitudinal reinforcement ratio "
   ]
  },
  {
   "cell_type": "code",
   "execution_count": 402,
   "id": "e6c52695",
   "metadata": {},
   "outputs": [
    {
     "data": {
      "text/latex": [
       "\\[\n",
       "\\begin{aligned}\n",
       "&\\text{Since, } f'_{c} \\lt 8000 \\rightarrow \\left( 4000 \\lt 8000 \\right) :   \\end{aligned}\n",
       "\\]\n",
       "\\[\n",
       "\\begin{aligned}\n",
       "\\beta_{1} &= 0.85 - 0.05 \\cdot \\frac{ f'_{c} - 4000 }{ 1000 }  = 0.85 - 0.05 \\cdot \\frac{ 4000 - 4000 }{ 1000 } &= 0.85  \n",
       "\\end{aligned}\n",
       "\\]"
      ],
      "text/plain": [
       "<IPython.core.display.Latex object>"
      ]
     },
     "metadata": {},
     "output_type": "display_data"
    }
   ],
   "source": [
    "%%render 2\n",
    "if f_prime_c < 4000: beta_1 = 0.85\n",
    "elif f_prime_c < 8000: beta_1 = 0.85-0.05*(f_prime_c-4000)/1000\n",
    "else: beta_1 = 0.65"
   ]
  },
  {
   "cell_type": "code",
   "execution_count": 403,
   "id": "10aa8e66",
   "metadata": {},
   "outputs": [
    {
     "data": {
      "text/latex": [
       "\\[\n",
       "\\begin{aligned}\n",
       "a &= \\frac{ f_{yl} \\cdot \\mathrm{As} }{ \\alpha_{1} \\cdot f'_{c} \\cdot b }  = \\frac{ 40000 \\cdot 5.530 }{ 0.850 \\cdot 4000 \\cdot 12 } &= 5.422 \\; \\;\\textrm{(inch, rectangular compression area depth)}\n",
       "\\\\[10pt]\n",
       "c &= \\frac{ a }{ \\beta_{1} }  = \\frac{ 5.422 }{ 0.850 } &= 6.378 \\; \\;\\textrm{(inch, compression edge to neutral axis)}\n",
       "\\\\[10pt]\n",
       "\\epsilon_{t} &= \\epsilon_{cmax} \\cdot \\frac{ d - c }{ c }  = 0.003 \\cdot \\frac{ 16.000 - 6.378 }{ 6.378 } &= 0.005 \\; \\;\\textrm{(tensile strain in rebar)}\n",
       "\\end{aligned}\n",
       "\\]"
      ],
      "text/plain": [
       "<IPython.core.display.Latex object>"
      ]
     },
     "metadata": {},
     "output_type": "display_data"
    }
   ],
   "source": [
    "%%render 3\n",
    "a = (f_yl*As)/(alpha_1*f_prime_c*b) # inch, rectangular compression area depth\n",
    "c = a / beta_1 # inch, compression edge to neutral axis\n",
    "epsilon_t = epsilon_cmax*(d-c)/c # tensile strain in rebar"
   ]
  },
  {
   "cell_type": "code",
   "execution_count": 404,
   "id": "46486806",
   "metadata": {},
   "outputs": [
    {
     "data": {
      "text/latex": [
       "\\[\n",
       "\\begin{aligned}\n",
       "&\\text{Since, } \\epsilon_{t} \\gt \\epsilon_{y} \\rightarrow \\left( 0.005 \\gt 0.002 \\right) :   \\end{aligned}\n",
       "\\]\n",
       "\\[\n",
       "\\begin{aligned}\n",
       "\\phi_{b} &= 0.860 \\; \n",
       "\\end{aligned}\n",
       "\\]"
      ],
      "text/plain": [
       "<IPython.core.display.Latex object>"
      ]
     },
     "metadata": {},
     "output_type": "display_data"
    }
   ],
   "source": [
    "%%render 3\n",
    "if epsilon_t > (epsilon_y+0.003): phi_b=0.9\n",
    "elif epsilon_t > epsilon_y: phi_b=0.65+0.25*(epsilon_t-epsilon_y)/0.003\n",
    "else: phi_b = 0.65"
   ]
  },
  {
   "cell_type": "code",
   "execution_count": 405,
   "id": "e28aa6f0",
   "metadata": {},
   "outputs": [
    {
     "data": {
      "text/latex": [
       "\\[\n",
       "\\begin{aligned}\n",
       "M_{n} &= \\phi_{b} \\cdot \\mathrm{As} \\cdot f_{yl} \\cdot \\frac{ d - \\frac{ a }{ 2 } }{ 12 } \\cdot \\frac{1} { 1000 }  = 0.9 \\cdot 5.5 \\cdot 40000 \\cdot \\frac{ 16.0 - \\frac{ 5.4 }{ 2 } }{ 12 } \\cdot \\frac{1} { 1000 } &= 210.8 \\; \\;\\textrm{(kip-ft)}\n",
       "\\end{aligned}\n",
       "\\]"
      ],
      "text/plain": [
       "<IPython.core.display.Latex object>"
      ]
     },
     "metadata": {},
     "output_type": "display_data"
    }
   ],
   "source": [
    "%%render 1\n",
    "M_n = phi_b*As*f_yl*(d-a/2)/12/1000 # kip-ft"
   ]
  },
  {
   "cell_type": "markdown",
   "id": "ab3ab399",
   "metadata": {},
   "source": [
    "## One way shear resistance calculation\n"
   ]
  },
  {
   "cell_type": "code",
   "execution_count": 406,
   "id": "10a2c4e1",
   "metadata": {},
   "outputs": [],
   "source": [
    "Av = float(USrebar.loc[USrebar['size #'] == db_t, 'area'])*n_leg # in^2, shear reinforcement area within spacing s"
   ]
  },
  {
   "cell_type": "code",
   "execution_count": 407,
   "id": "87bd82d5",
   "metadata": {},
   "outputs": [
    {
     "data": {
      "text/latex": [
       "\\[\n",
       "\\begin{aligned}\n",
       "d &= \\operatorname{max} { \\left( d ,\\  0.8 \\cdot h \\right) }  = \\operatorname{max} { \\left( 16.000 ,\\  0.8 \\cdot 19 \\right) } &= 16.000 \\; \\;\\textrm{(extreme compression firber to rebar centroid)}\n",
       "\\\\[10pt]\n",
       "\\rho_{w} &= \\frac{ \\mathrm{As} }{ b \\cdot d }  = \\frac{ 5.530 }{ 12 \\cdot 16.000 } &= 0.029 \\; \\;\\textrm{(ratio of As to bd)}\n",
       "\\\\[10pt]\n",
       "\\lambda_{s} &= \\operatorname{min} { \\left( \\sqrt { \\frac{ 2 }{ 1 + \\frac{ d }{ 10 } } } ,\\  1 \\right) }  = \\operatorname{min} { \\left( \\sqrt { \\frac{ 2 }{ 1 + \\frac{ 16.000 }{ 10 } } } ,\\  1 \\right) } &= 0.877 \\; \\;\\textrm{(reduction factor for size effect)}\n",
       "\\end{aligned}\n",
       "\\]"
      ],
      "text/plain": [
       "<IPython.core.display.Latex object>"
      ]
     },
     "metadata": {},
     "output_type": "display_data"
    }
   ],
   "source": [
    "%%render \n",
    "d = max(d, 0.8*h) # extreme compression firber to rebar centroid\n",
    "rho_w = As/(b*d) # ratio of As to bd\n",
    "lamb_s = min(sqrt(2/(1+d/10)),1) # reduction factor for size effect"
   ]
  },
  {
   "cell_type": "code",
   "execution_count": 408,
   "id": "eb0a0200",
   "metadata": {},
   "outputs": [
    {
     "data": {
      "text/latex": [
       "\\[\n",
       "\\begin{aligned}\n",
       "\\mathrm{Av}_{min} &= \\operatorname{max} { \\left( 0.75 \\cdot \\sqrt { f'_{c} } \\cdot b \\cdot \\frac{ s }{ f_{yt} } ,\\  50 \\cdot b \\cdot \\frac{ s }{ f_{yt} } \\right) } \\\\&= \\operatorname{max} { \\left( 0.75 \\cdot \\sqrt { 4000 } \\cdot 12 \\cdot \\frac{ 6 }{ 40000 } ,\\  50 \\cdot 12 \\cdot \\frac{ 6 }{ 40000 } \\right) } \\\\&= 0.090 \\; \\;\\textrm{(min shear reinforcement for column)}\\\\[10pt]\n",
       "\\end{aligned}\n",
       "\\]"
      ],
      "text/plain": [
       "<IPython.core.display.Latex object>"
      ]
     },
     "metadata": {},
     "output_type": "display_data"
    }
   ],
   "source": [
    "%%render \n",
    "Av_min = max(0.75*sqrt(f_prime_c)*b*s/(f_yt),50*b*s/(f_yt)) # min shear reinforcement for column"
   ]
  },
  {
   "cell_type": "code",
   "execution_count": 409,
   "id": "d9c8e52e",
   "metadata": {},
   "outputs": [
    {
     "data": {
      "text/latex": [
       "\\[\n",
       "\\begin{aligned}\n",
       "\\mathrm{Vc}_{a} &= \\left( 2 \\cdot \\sqrt { f'_{c} } + \\frac{ \\Nu }{ 6 } \\cdot \\frac{1} { \\mathrm{Ag} } \\right) \\cdot b \\cdot \\frac{ d }{ 1000 } \\\\&= \\left( 2 \\cdot \\sqrt { 4000 } + \\frac{ 0 }{ 6 } \\cdot \\frac{1} { 228 } \\right) \\cdot 12 \\cdot \\frac{ 16.0 }{ 1000 } \\\\&= 24.3 \\; \\;\\textrm{(kips)}\\\\[10pt]\n",
       "\\\\[10pt]\n",
       "\\mathrm{Vc}_{b} &= \\left( 8 \\cdot \\left( \\rho_{w} \\right) ^{ \\left( \\frac{ 1 }{ 3 } \\right) } \\cdot \\sqrt { f'_{c} } + \\frac{ \\Nu }{ 6 } \\cdot \\frac{1} { \\mathrm{Ag} } \\right) \\cdot b \\cdot \\frac{ d }{ 1000 } \\\\&= \\left( 8 \\cdot \\left( 0.0 \\right) ^{ \\left( \\frac{ 1 }{ 3 } \\right) } \\cdot \\sqrt { 4000 } + \\frac{ 0 }{ 6 } \\cdot \\frac{1} { 228 } \\right) \\cdot 12 \\cdot \\frac{ 16.0 }{ 1000 } \\\\&= 29.8 \\; \\;\\textrm{(kips)}\\\\[10pt]\n",
       "\\\\[10pt]\n",
       "&\\text{Since, } \\mathrm{Av} \\gt \\mathrm{Av}_{min} \\rightarrow \\left( 0.4 \\gt 0.1 \\right) : \\; \\;\\textrm{(kips)} \\end{aligned}\n",
       "\\]\n",
       "\\[\n",
       "\\begin{aligned}\n",
       "\\mathrm{Vc} &= \\frac{ \\operatorname{max} { \\left( \\mathrm{Vc}_{a} ,\\  \\mathrm{Vc}_{b} \\right) } }{ 1000 }  = \\frac{ \\operatorname{max} { \\left( 24.3 ,\\  29.8 \\right) } }{ 1000 } &= 0.0  \n",
       "\\end{aligned}\n",
       "\\]"
      ],
      "text/plain": [
       "<IPython.core.display.Latex object>"
      ]
     },
     "metadata": {},
     "output_type": "display_data"
    }
   ],
   "source": [
    "%%render 1\n",
    "Vc_a = (2*sqrt(f_prime_c)+Nu/6/Ag)*b*d/1000 #kips\n",
    "Vc_b = (8*rho_w**(1/3)*sqrt(f_prime_c)+Nu/6/Ag)*b*d/1000 #kips\n",
    "if Av>Av_min: Vc = max(Vc_a,Vc_b)/1000 #kips\n",
    "else: Vc = (8*lamb_s*rho_w**(1/3)*sqrt(f_prime_c)+Nu/6/Ag)*b*d/1000 #kips"
   ]
  },
  {
   "cell_type": "code",
   "execution_count": 410,
   "id": "6dec22bf",
   "metadata": {},
   "outputs": [
    {
     "data": {
      "text/latex": [
       "\\[\n",
       "\\begin{aligned}\n",
       "\\mathrm{Vs} &= \\frac{ \\mathrm{Av} \\cdot f_{yt} \\cdot d }{ s } \\cdot \\frac{1} { 1000 }  = \\frac{ 0.4 \\cdot 40000 \\cdot 16.0 }{ 6 } \\cdot \\frac{1} { 1000 } &= 42.7 \\; \\;\\textrm{(kips)}\n",
       "\\\\[10pt]\n",
       "\\mathrm{Vn} &= \\mathrm{Vc} + \\mathrm{Vs}  = 0.0 + 42.7 &= 42.7 \\; \\;\\textrm{(kips)}\n",
       "\\end{aligned}\n",
       "\\]"
      ],
      "text/plain": [
       "<IPython.core.display.Latex object>"
      ]
     },
     "metadata": {},
     "output_type": "display_data"
    }
   ],
   "source": [
    "%%render 1\n",
    "Vs = (Av*f_yt*d)/s/1000 #kips\n",
    "Vn = Vc +Vs #kips"
   ]
  },
  {
   "cell_type": "code",
   "execution_count": 414,
   "id": "aab56f3e",
   "metadata": {},
   "outputs": [
    {
     "data": {
      "text/latex": [
       "\\[\n",
       "\\begin{aligned}\n",
       "V_{factored} &= \\mathrm{Vn} \\cdot \\phi_{v}  = 42.70 \\cdot 0.75 &= 32.02 \\; \\;\\textrm{(kips)}\n",
       "\\end{aligned}\n",
       "\\]"
      ],
      "text/plain": [
       "<IPython.core.display.Latex object>"
      ]
     },
     "metadata": {},
     "output_type": "display_data"
    }
   ],
   "source": [
    "%%render 2\n",
    "V_factored = Vn * phi_v #kips"
   ]
  },
  {
   "cell_type": "code",
   "execution_count": null,
   "id": "258b73ef",
   "metadata": {},
   "outputs": [],
   "source": []
  }
 ],
 "metadata": {
  "kernelspec": {
   "display_name": "Python 3 (ipykernel)",
   "language": "python",
   "name": "python3"
  },
  "language_info": {
   "codemirror_mode": {
    "name": "ipython",
    "version": 3
   },
   "file_extension": ".py",
   "mimetype": "text/x-python",
   "name": "python",
   "nbconvert_exporter": "python",
   "pygments_lexer": "ipython3",
   "version": "3.9.12"
  }
 },
 "nbformat": 4,
 "nbformat_minor": 5
}
